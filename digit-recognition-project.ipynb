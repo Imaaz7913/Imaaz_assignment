{
 "cells": [
  {
   "cell_type": "markdown",
   "id": "b5b14f6e",
   "metadata": {
    "papermill": {
     "duration": 0.018569,
     "end_time": "2021-10-30T22:45:47.729290",
     "exception": false,
     "start_time": "2021-10-30T22:45:47.710721",
     "status": "completed"
    },
    "tags": []
   },
   "source": [
    "## Code Modules"
   ]
  },
  {
   "cell_type": "code",
   "execution_count": 1,
   "id": "46c4a9cb",
   "metadata": {
    "_cell_guid": "b1076dfc-b9ad-4769-8c92-a6c4dae69d19",
    "_uuid": "8f2839f25d086af736a60e9eeb907d3b93b6e0e5",
    "execution": {
     "iopub.execute_input": "2021-10-30T22:45:47.769039Z",
     "iopub.status.busy": "2021-10-30T22:45:47.767482Z",
     "iopub.status.idle": "2021-10-30T22:45:53.119234Z",
     "shell.execute_reply": "2021-10-30T22:45:53.118273Z",
     "shell.execute_reply.started": "2021-10-30T22:34:55.056617Z"
    },
    "papermill": {
     "duration": 5.372736,
     "end_time": "2021-10-30T22:45:53.119400",
     "exception": false,
     "start_time": "2021-10-30T22:45:47.746664",
     "status": "completed"
    },
    "tags": []
   },
   "outputs": [],
   "source": [
    "import tensorflow_hub as th,tensorflow as tf\n",
    "import numpy as np,pandas as pd,pylab as pl\n",
    "from tensorflow.keras.datasets import mnist\n",
    "import tensorflow.keras.layers as tkl\n",
    "import tensorflow.keras.callbacks as tkc\n",
    "from tensorflow.keras.preprocessing.image \\\n",
    "import ImageDataGenerator"
   ]
  },
  {
   "cell_type": "markdown",
   "id": "7a8dec45",
   "metadata": {
    "papermill": {
     "duration": 0.016993,
     "end_time": "2021-10-30T22:45:53.154859",
     "exception": false,
     "start_time": "2021-10-30T22:45:53.137866",
     "status": "completed"
    },
    "tags": []
   },
   "source": [
    "## Data Loading"
   ]
  },
  {
   "cell_type": "code",
   "execution_count": 2,
   "id": "ff73c4e6",
   "metadata": {
    "execution": {
     "iopub.execute_input": "2021-10-30T22:45:53.194994Z",
     "iopub.status.busy": "2021-10-30T22:45:53.194396Z",
     "iopub.status.idle": "2021-10-30T22:45:58.064721Z",
     "shell.execute_reply": "2021-10-30T22:45:58.065733Z",
     "shell.execute_reply.started": "2021-10-30T22:35:00.056897Z"
    },
    "papermill": {
     "duration": 4.893925,
     "end_time": "2021-10-30T22:45:58.066187",
     "exception": false,
     "start_time": "2021-10-30T22:45:53.172262",
     "status": "completed"
    },
    "tags": []
   },
   "outputs": [
    {
     "name": "stdout",
     "output_type": "stream",
     "text": [
      "[(42000, 785), (28000, 784)]\n",
      "[  0   0   0   0   0   0   0   0  37 111 137 245 254 254 254 254  52   0\n",
      "   0   0 186 254 163   0   0   0   0   0]\n"
     ]
    }
   ],
   "source": [
    "df_train=pd.read_csv('../input/digit-recognizer/train.csv')\n",
    "df_test=pd.read_csv('../input/digit-recognizer/test.csv')\n",
    "print([df_train.shape,df_test.shape])\n",
    "print(df_train.iloc[265,1:].values.reshape(28,28)[:,10])"
   ]
  },
  {
   "cell_type": "code",
   "execution_count": 3,
   "id": "25df2c28",
   "metadata": {
    "execution": {
     "iopub.execute_input": "2021-10-30T22:45:58.192838Z",
     "iopub.status.busy": "2021-10-30T22:45:58.191806Z",
     "iopub.status.idle": "2021-10-30T22:45:58.410582Z",
     "shell.execute_reply": "2021-10-30T22:45:58.411040Z",
     "shell.execute_reply.started": "2021-10-30T22:35:05.503380Z"
    },
    "papermill": {
     "duration": 0.323311,
     "end_time": "2021-10-30T22:45:58.411203",
     "exception": false,
     "start_time": "2021-10-30T22:45:58.087892",
     "status": "completed"
    },
    "tags": []
   },
   "outputs": [],
   "source": [
    "images=['%s%s'%('pixel',pixel_no) for pixel_no in range(0,784)]\n",
    "x_train=df_train[images].values/255.\n",
    "x_train=x_train.reshape(-1,28,28,1)\n",
    "y_train=df_train['label'].values\n",
    "x_test_out=df_test[images].values/255.\n",
    "x_test_out=x_test_out.reshape(-1,28,28,1)"
   ]
  },
  {
   "cell_type": "code",
   "execution_count": 4,
   "id": "56e64f03",
   "metadata": {
    "execution": {
     "iopub.execute_input": "2021-10-30T22:45:58.458459Z",
     "iopub.status.busy": "2021-10-30T22:45:58.457395Z",
     "iopub.status.idle": "2021-10-30T22:45:58.835459Z",
     "shell.execute_reply": "2021-10-30T22:45:58.835895Z",
     "shell.execute_reply.started": "2021-10-30T22:35:05.820626Z"
    },
    "papermill": {
     "duration": 0.406908,
     "end_time": "2021-10-30T22:45:58.836038",
     "exception": false,
     "start_time": "2021-10-30T22:45:58.429130",
     "status": "completed"
    },
    "tags": []
   },
   "outputs": [
    {
     "data": {
      "text/html": [
       "<div>\n",
       "<style scoped>\n",
       "    .dataframe tbody tr th:only-of-type {\n",
       "        vertical-align: middle;\n",
       "    }\n",
       "\n",
       "    .dataframe tbody tr th {\n",
       "        vertical-align: top;\n",
       "    }\n",
       "\n",
       "    .dataframe thead th {\n",
       "        text-align: right;\n",
       "    }\n",
       "</style>\n",
       "<table border=\"1\" class=\"dataframe\">\n",
       "  <thead>\n",
       "    <tr style=\"text-align: right;\">\n",
       "      <th></th>\n",
       "      <th>train</th>\n",
       "      <th>valid</th>\n",
       "      <th>test</th>\n",
       "    </tr>\n",
       "  </thead>\n",
       "  <tbody>\n",
       "    <tr>\n",
       "      <th>image shape</th>\n",
       "      <td>(33600, 28, 28, 1)</td>\n",
       "      <td>(4200, 28, 28, 1)</td>\n",
       "      <td>(4200, 28, 28, 1)</td>\n",
       "    </tr>\n",
       "    <tr>\n",
       "      <th>image type</th>\n",
       "      <td>float64</td>\n",
       "      <td>float64</td>\n",
       "      <td>float64</td>\n",
       "    </tr>\n",
       "    <tr>\n",
       "      <th>label shape</th>\n",
       "      <td>(33600,)</td>\n",
       "      <td>(4200,)</td>\n",
       "      <td>(4200,)</td>\n",
       "    </tr>\n",
       "    <tr>\n",
       "      <th>label type</th>\n",
       "      <td>int64</td>\n",
       "      <td>int64</td>\n",
       "      <td>int64</td>\n",
       "    </tr>\n",
       "  </tbody>\n",
       "</table>\n",
       "</div>"
      ],
      "text/plain": [
       "                          train              valid               test\n",
       "image shape  (33600, 28, 28, 1)  (4200, 28, 28, 1)  (4200, 28, 28, 1)\n",
       "image type              float64            float64            float64\n",
       "label shape            (33600,)            (4200,)            (4200,)\n",
       "label type                int64              int64              int64"
      ]
     },
     "execution_count": 4,
     "metadata": {},
     "output_type": "execute_result"
    }
   ],
   "source": [
    "N=df_train.shape[0]; n=int(.1*N)\n",
    "shuffle_ids=np.arange(N)\n",
    "np.random.RandomState(123).shuffle(shuffle_ids)\n",
    "x_train=x_train[shuffle_ids]; y_train=y_train[shuffle_ids]\n",
    "x_test,x_valid,x_train=\\\n",
    "x_train[:n],x_train[n:2*n],x_train[2*n:]\n",
    "y_test,y_valid,y_train=\\\n",
    "y_train[:n],y_train[n:2*n],y_train[2*n:]\n",
    "df=pd.DataFrame(\n",
    "    [[x_train.shape,x_valid.shape,x_test.shape],\n",
    "     [x_train.dtype,x_valid.dtype,x_test.dtype],\n",
    "     [y_train.shape,y_valid.shape,y_test.shape],\n",
    "     [y_train.dtype,y_valid.dtype,y_test.dtype]],\n",
    "    columns=['train','valid','test'],\n",
    "    index=['image shape','image type','label shape','label type'])\n",
    "num_classes=10; img_size=96\n",
    "df"
   ]
  },
  {
   "cell_type": "code",
   "execution_count": 5,
   "id": "23eb61d2",
   "metadata": {
    "execution": {
     "iopub.execute_input": "2021-10-30T22:45:58.906339Z",
     "iopub.status.busy": "2021-10-30T22:45:58.901222Z",
     "iopub.status.idle": "2021-10-30T22:45:59.210946Z",
     "shell.execute_reply": "2021-10-30T22:45:59.211492Z",
     "shell.execute_reply.started": "2021-10-30T22:35:06.222399Z"
    },
    "papermill": {
     "duration": 0.34962,
     "end_time": "2021-10-30T22:45:59.211640",
     "exception": false,
     "start_time": "2021-10-30T22:45:58.862020",
     "status": "completed"
    },
    "tags": []
   },
   "outputs": [
    {
     "data": {
      "image/png": "[encoded data removed]",
      "text/plain": [
       "<Figure size 720x144 with 5 Axes>"
      ]
     },
     "metadata": {},
     "output_type": "display_data"
    }
   ],
   "source": [
    "fig,ax=pl.subplots(\n",
    "    figsize=(10,2),nrows=1,\n",
    "    ncols=5,sharex=True,sharey=True)\n",
    "ax=ax.flatten()\n",
    "for i in range(5):\n",
    "    image=x_train[i].reshape(28,28)\n",
    "    ax[i].imshow(image,cmap=pl.cm.bone)\n",
    "ax[0].set_xticks([]); ax[0].set_yticks([])\n",
    "pl.tight_layout(); pl.gcf()\n",
    "ax[2].set_title(\n",
    "    'Examples of the 784-dimensional digits',fontsize=25);"
   ]
  },
  {
   "cell_type": "markdown",
   "id": "0cc303d5",
   "metadata": {
    "papermill": {
     "duration": 0.01868,
     "end_time": "2021-10-30T22:45:59.249232",
     "exception": false,
     "start_time": "2021-10-30T22:45:59.230552",
     "status": "completed"
    },
    "tags": []
   },
   "source": [
    "## CNN Like Models"
   ]
  },
  {
   "cell_type": "code",
   "execution_count": 6,
   "id": "2aee7aa7",
   "metadata": {
    "_kg_hide-output": true,
    "execution": {
     "iopub.execute_input": "2021-10-30T22:45:59.296756Z",
     "iopub.status.busy": "2021-10-30T22:45:59.293913Z",
     "iopub.status.idle": "2021-10-30T22:45:59.299004Z",
     "shell.execute_reply": "2021-10-30T22:45:59.298565Z",
     "shell.execute_reply.started": "2021-10-30T22:35:06.562109Z"
    },
    "papermill": {
     "duration": 0.031105,
     "end_time": "2021-10-30T22:45:59.299109",
     "exception": false,
     "start_time": "2021-10-30T22:45:59.268004",
     "status": "completed"
    },
    "tags": []
   },
   "outputs": [],
   "source": [
    "def model():\n",
    "    model=tf.keras.Sequential()\n",
    "    model.add(tkl.Input(shape=(28,28,1)))\n",
    "    model.add(tkl.BatchNormalization())  \n",
    "    model.add(tkl.Conv2D(28,(5,5),padding='same'))\n",
    "    model.add(tkl.LeakyReLU(alpha=.02))\n",
    "    model.add(tkl.MaxPooling2D(pool_size=(2,2)))\n",
    "    model.add(tkl.Dropout(.2))   \n",
    "    model.add(tkl.Conv2D(96,(5,5),padding='same'))\n",
    "    model.add(tkl.LeakyReLU(alpha=.02))\n",
    "    model.add(tkl.MaxPooling2D(strides=(2,2)))\n",
    "    model.add(tkl.Dropout(.2))\n",
    "    model.add(tkl.Conv2D(128,(5,5)))\n",
    "    model.add(tkl.LeakyReLU(alpha=.02))\n",
    "    model.add(tkl.MaxPooling2D(strides=(2,2)))\n",
    "    model.add(tkl.Dropout(.2)) \n",
    "    model.add(tkl.GlobalMaxPooling2D())\n",
    "    model.add(tkl.Dense(1024))\n",
    "    model.add(tkl.LeakyReLU(alpha=.02))\n",
    "    model.add(tkl.Dropout(.5))  \n",
    "    model.add(tkl.Dense(num_classes,activation='softmax'))        \n",
    "    model.compile(loss='sparse_categorical_crossentropy',\n",
    "                  optimizer='nadam',\n",
    "                  metrics=['sparse_categorical_accuracy'])\n",
    "    return model"
   ]
  },
  {
   "cell_type": "code",
   "execution_count": 7,
   "id": "7e393605",
   "metadata": {
    "_kg_hide-output": true,
    "execution": {
     "iopub.execute_input": "2021-10-30T22:45:59.341959Z",
     "iopub.status.busy": "2021-10-30T22:45:59.341385Z",
     "iopub.status.idle": "2021-10-30T22:48:45.457744Z",
     "shell.execute_reply": "2021-10-30T22:48:45.457264Z",
     "shell.execute_reply.started": "2021-10-30T22:35:06.574816Z"
    },
    "papermill": {
     "duration": 166.140224,
     "end_time": "2021-10-30T22:48:45.457878",
     "exception": false,
     "start_time": "2021-10-30T22:45:59.317654",
     "status": "completed"
    },
    "tags": []
   },
   "outputs": [
    {
     "name": "stderr",
     "output_type": "stream",
     "text": [
      "2021-10-30 22:45:59.403499: I tensorflow/stream_executor/cuda/cuda_gpu_executor.cc:937] successful NUMA node read from SysFS had negative value (-1), but there must be at least one NUMA node, so returning NUMA node zero\n",
      "2021-10-30 22:45:59.490217: I tensorflow/stream_executor/cuda/cuda_gpu_executor.cc:937] successful NUMA node read from SysFS had negative value (-1), but there must be at least one NUMA node, so returning NUMA node zero\n",
      "2021-10-30 22:45:59.490894: I tensorflow/stream_executor/cuda/cuda_gpu_executor.cc:937] successful NUMA node read from SysFS had negative value (-1), but there must be at least one NUMA node, so returning NUMA node zero\n",
      "2021-10-30 22:45:59.492496: I tensorflow/core/platform/cpu_feature_guard.cc:142] This TensorFlow binary is optimized with oneAPI Deep Neural Network Library (oneDNN) to use the following CPU instructions in performance-critical operations:  AVX2 AVX512F FMA\n",
      "To enable them in other operations, rebuild TensorFlow with the appropriate compiler flags.\n",
      "2021-10-30 22:45:59.493507: I tensorflow/stream_executor/cuda/cuda_gpu_executor.cc:937] successful NUMA node read from SysFS had negative value (-1), but there must be at least one NUMA node, so returning NUMA node zero\n",
      "2021-10-30 22:45:59.494138: I tensorflow/stream_executor/cuda/cuda_gpu_executor.cc:937] successful NUMA node read from SysFS had negative value (-1), but there must be at least one NUMA node, so returning NUMA node zero\n",
      "2021-10-30 22:45:59.494742: I tensorflow/stream_executor/cuda/cuda_gpu_executor.cc:937] successful NUMA node read from SysFS had negative value (-1), but there must be at least one NUMA node, so returning NUMA node zero\n",
      "2021-10-30 22:46:01.129271: I tensorflow/stream_executor/cuda/cuda_gpu_executor.cc:937] successful NUMA node read from SysFS had negative value (-1), but there must be at least one NUMA node, so returning NUMA node zero\n",
      "2021-10-30 22:46:01.130045: I tensorflow/stream_executor/cuda/cuda_gpu_executor.cc:937] successful NUMA node read from SysFS had negative value (-1), but there must be at least one NUMA node, so returning NUMA node zero\n",
      "2021-10-30 22:46:01.130734: I tensorflow/stream_executor/cuda/cuda_gpu_executor.cc:937] successful NUMA node read from SysFS had negative value (-1), but there must be at least one NUMA node, so returning NUMA node zero\n",
      "2021-10-30 22:46:01.131332: I tensorflow/core/common_runtime/gpu/gpu_device.cc:1510] Created device /job:localhost/replica:0/task:0/device:GPU:0 with 15403 MB memory:  -> device: 0, name: Tesla P100-PCIE-16GB, pci bus id: 0000:00:04.0, compute capability: 6.0\n",
      "2021-10-30 22:46:02.015949: I tensorflow/compiler/mlir/mlir_graph_optimization_pass.cc:185] None of the MLIR Optimization Passes are enabled (registered 2)\n"
     ]
    },
    {
     "name": "stdout",
     "output_type": "stream",
     "text": [
      "Epoch 1/120\n"
     ]
    },
    {
     "name": "stderr",
     "output_type": "stream",
     "text": [
      "2021-10-30 22:46:04.008532: I tensorflow/stream_executor/cuda/cuda_dnn.cc:369] Loaded cuDNN version 8005\n"
     ]
    },
    {
     "name": "stdout",
     "output_type": "stream",
     "text": [
      "263/263 - 9s - loss: 0.3432 - sparse_categorical_accuracy: 0.8873 - val_loss: 0.0691 - val_sparse_categorical_accuracy: 0.9814\n",
      "\n",
      "Epoch 00001: val_sparse_categorical_accuracy improved from -inf to 0.98143, saving model to /tmp/checkpoint\n",
      "Epoch 2/120\n",
      "263/263 - 2s - loss: 0.0770 - sparse_categorical_accuracy: 0.9769 - val_loss: 0.0379 - val_sparse_categorical_accuracy: 0.9890\n",
      "\n",
      "Epoch 00002: val_sparse_categorical_accuracy improved from 0.98143 to 0.98905, saving model to /tmp/checkpoint\n",
      "Epoch 3/120\n",
      "263/263 - 2s - loss: 0.0547 - sparse_categorical_accuracy: 0.9839 - val_loss: 0.0646 - val_sparse_categorical_accuracy: 0.9807\n",
      "\n",
      "Epoch 00003: val_sparse_categorical_accuracy did not improve from 0.98905\n",
      "Epoch 4/120\n",
      "263/263 - 2s - loss: 0.0424 - sparse_categorical_accuracy: 0.9865 - val_loss: 0.0423 - val_sparse_categorical_accuracy: 0.9876\n",
      "\n",
      "Epoch 00004: val_sparse_categorical_accuracy did not improve from 0.98905\n",
      "Epoch 5/120\n",
      "263/263 - 2s - loss: 0.0348 - sparse_categorical_accuracy: 0.9893 - val_loss: 0.0388 - val_sparse_categorical_accuracy: 0.9900\n",
      "\n",
      "Epoch 00005: val_sparse_categorical_accuracy improved from 0.98905 to 0.99000, saving model to /tmp/checkpoint\n",
      "Epoch 6/120\n",
      "263/263 - 2s - loss: 0.0305 - sparse_categorical_accuracy: 0.9899 - val_loss: 0.0287 - val_sparse_categorical_accuracy: 0.9924\n",
      "\n",
      "Epoch 00006: val_sparse_categorical_accuracy improved from 0.99000 to 0.99238, saving model to /tmp/checkpoint\n",
      "Epoch 7/120\n",
      "263/263 - 2s - loss: 0.0279 - sparse_categorical_accuracy: 0.9915 - val_loss: 0.0349 - val_sparse_categorical_accuracy: 0.9919\n",
      "\n",
      "Epoch 00007: val_sparse_categorical_accuracy did not improve from 0.99238\n",
      "Epoch 8/120\n",
      "263/263 - 2s - loss: 0.0262 - sparse_categorical_accuracy: 0.9920 - val_loss: 0.0411 - val_sparse_categorical_accuracy: 0.9895\n",
      "\n",
      "Epoch 00008: val_sparse_categorical_accuracy did not improve from 0.99238\n",
      "Epoch 9/120\n",
      "263/263 - 2s - loss: 0.0237 - sparse_categorical_accuracy: 0.9929 - val_loss: 0.0314 - val_sparse_categorical_accuracy: 0.9921\n",
      "\n",
      "Epoch 00009: val_sparse_categorical_accuracy did not improve from 0.99238\n",
      "Epoch 10/120\n",
      "263/263 - 2s - loss: 0.0198 - sparse_categorical_accuracy: 0.9935 - val_loss: 0.0419 - val_sparse_categorical_accuracy: 0.9902\n",
      "\n",
      "Epoch 00010: val_sparse_categorical_accuracy did not improve from 0.99238\n",
      "Epoch 11/120\n",
      "263/263 - 2s - loss: 0.0191 - sparse_categorical_accuracy: 0.9938 - val_loss: 0.0270 - val_sparse_categorical_accuracy: 0.9929\n",
      "\n",
      "Epoch 00011: val_sparse_categorical_accuracy improved from 0.99238 to 0.99286, saving model to /tmp/checkpoint\n",
      "Epoch 12/120\n",
      "263/263 - 2s - loss: 0.0180 - sparse_categorical_accuracy: 0.9941 - val_loss: 0.0415 - val_sparse_categorical_accuracy: 0.9888\n",
      "\n",
      "Epoch 00012: val_sparse_categorical_accuracy did not improve from 0.99286\n",
      "Epoch 13/120\n",
      "263/263 - 2s - loss: 0.0152 - sparse_categorical_accuracy: 0.9954 - val_loss: 0.0427 - val_sparse_categorical_accuracy: 0.9893\n",
      "\n",
      "Epoch 00013: val_sparse_categorical_accuracy did not improve from 0.99286\n",
      "Epoch 14/120\n",
      "263/263 - 2s - loss: 0.0155 - sparse_categorical_accuracy: 0.9952 - val_loss: 0.0372 - val_sparse_categorical_accuracy: 0.9912\n",
      "\n",
      "Epoch 00014: val_sparse_categorical_accuracy did not improve from 0.99286\n",
      "Epoch 15/120\n",
      "263/263 - 2s - loss: 0.0143 - sparse_categorical_accuracy: 0.9960 - val_loss: 0.0429 - val_sparse_categorical_accuracy: 0.9893\n",
      "\n",
      "Epoch 00015: val_sparse_categorical_accuracy did not improve from 0.99286\n",
      "Epoch 16/120\n",
      "263/263 - 2s - loss: 0.0166 - sparse_categorical_accuracy: 0.9949 - val_loss: 0.0434 - val_sparse_categorical_accuracy: 0.9905\n",
      "\n",
      "Epoch 00016: val_sparse_categorical_accuracy did not improve from 0.99286\n",
      "Epoch 17/120\n",
      "263/263 - 2s - loss: 0.0121 - sparse_categorical_accuracy: 0.9960 - val_loss: 0.0360 - val_sparse_categorical_accuracy: 0.9919\n",
      "\n",
      "Epoch 00017: val_sparse_categorical_accuracy did not improve from 0.99286\n",
      "Epoch 18/120\n",
      "263/263 - 2s - loss: 0.0141 - sparse_categorical_accuracy: 0.9956 - val_loss: 0.0340 - val_sparse_categorical_accuracy: 0.9917\n",
      "\n",
      "Epoch 00018: val_sparse_categorical_accuracy did not improve from 0.99286\n",
      "Epoch 19/120\n",
      "263/263 - 2s - loss: 0.0120 - sparse_categorical_accuracy: 0.9964 - val_loss: 0.0312 - val_sparse_categorical_accuracy: 0.9924\n",
      "\n",
      "Epoch 00019: val_sparse_categorical_accuracy did not improve from 0.99286\n",
      "Epoch 20/120\n",
      "263/263 - 2s - loss: 0.0119 - sparse_categorical_accuracy: 0.9961 - val_loss: 0.0291 - val_sparse_categorical_accuracy: 0.9929\n",
      "\n",
      "Epoch 00020: val_sparse_categorical_accuracy did not improve from 0.99286\n",
      "Epoch 21/120\n",
      "263/263 - 2s - loss: 0.0096 - sparse_categorical_accuracy: 0.9968 - val_loss: 0.0362 - val_sparse_categorical_accuracy: 0.9931\n",
      "\n",
      "Epoch 00021: val_sparse_categorical_accuracy improved from 0.99286 to 0.99310, saving model to /tmp/checkpoint\n",
      "Epoch 22/120\n",
      "263/263 - 2s - loss: 0.0092 - sparse_categorical_accuracy: 0.9970 - val_loss: 0.0396 - val_sparse_categorical_accuracy: 0.9921\n",
      "\n",
      "Epoch 00022: val_sparse_categorical_accuracy did not improve from 0.99310\n",
      "Epoch 23/120\n",
      "263/263 - 2s - loss: 0.0131 - sparse_categorical_accuracy: 0.9961 - val_loss: 0.0373 - val_sparse_categorical_accuracy: 0.9933\n",
      "\n",
      "Epoch 00023: val_sparse_categorical_accuracy improved from 0.99310 to 0.99333, saving model to /tmp/checkpoint\n",
      "Epoch 24/120\n",
      "263/263 - 2s - loss: 0.0113 - sparse_categorical_accuracy: 0.9964 - val_loss: 0.0388 - val_sparse_categorical_accuracy: 0.9924\n",
      "\n",
      "Epoch 00024: val_sparse_categorical_accuracy did not improve from 0.99333\n",
      "Epoch 25/120\n",
      "263/263 - 2s - loss: 0.0101 - sparse_categorical_accuracy: 0.9968 - val_loss: 0.0336 - val_sparse_categorical_accuracy: 0.9929\n",
      "\n",
      "Epoch 00025: val_sparse_categorical_accuracy did not improve from 0.99333\n",
      "Epoch 26/120\n",
      "263/263 - 2s - loss: 0.0135 - sparse_categorical_accuracy: 0.9964 - val_loss: 0.0364 - val_sparse_categorical_accuracy: 0.9924\n",
      "\n",
      "Epoch 00026: val_sparse_categorical_accuracy did not improve from 0.99333\n",
      "\n",
      "Epoch 00026: ReduceLROnPlateau reducing learning rate to 0.000800000037997961.\n",
      "Epoch 27/120\n",
      "263/263 - 2s - loss: 0.0083 - sparse_categorical_accuracy: 0.9971 - val_loss: 0.0340 - val_sparse_categorical_accuracy: 0.9933\n",
      "\n",
      "Epoch 00027: val_sparse_categorical_accuracy did not improve from 0.99333\n",
      "Epoch 28/120\n",
      "263/263 - 2s - loss: 0.0076 - sparse_categorical_accuracy: 0.9976 - val_loss: 0.0337 - val_sparse_categorical_accuracy: 0.9936\n",
      "\n",
      "Epoch 00028: val_sparse_categorical_accuracy improved from 0.99333 to 0.99357, saving model to /tmp/checkpoint\n",
      "Epoch 29/120\n",
      "263/263 - 2s - loss: 0.0059 - sparse_categorical_accuracy: 0.9982 - val_loss: 0.0355 - val_sparse_categorical_accuracy: 0.9948\n",
      "\n",
      "Epoch 00029: val_sparse_categorical_accuracy improved from 0.99357 to 0.99476, saving model to /tmp/checkpoint\n",
      "Epoch 30/120\n",
      "263/263 - 2s - loss: 0.0054 - sparse_categorical_accuracy: 0.9982 - val_loss: 0.0350 - val_sparse_categorical_accuracy: 0.9926\n",
      "\n",
      "Epoch 00030: val_sparse_categorical_accuracy did not improve from 0.99476\n",
      "Epoch 31/120\n",
      "263/263 - 2s - loss: 0.0049 - sparse_categorical_accuracy: 0.9986 - val_loss: 0.0350 - val_sparse_categorical_accuracy: 0.9940\n",
      "\n",
      "Epoch 00031: val_sparse_categorical_accuracy did not improve from 0.99476\n",
      "Epoch 32/120\n",
      "263/263 - 2s - loss: 0.0054 - sparse_categorical_accuracy: 0.9981 - val_loss: 0.0392 - val_sparse_categorical_accuracy: 0.9926\n",
      "\n",
      "Epoch 00032: val_sparse_categorical_accuracy did not improve from 0.99476\n",
      "Epoch 33/120\n",
      "263/263 - 2s - loss: 0.0100 - sparse_categorical_accuracy: 0.9968 - val_loss: 0.0469 - val_sparse_categorical_accuracy: 0.9926\n",
      "\n",
      "Epoch 00033: val_sparse_categorical_accuracy did not improve from 0.99476\n",
      "Epoch 34/120\n",
      "263/263 - 2s - loss: 0.0056 - sparse_categorical_accuracy: 0.9982 - val_loss: 0.0463 - val_sparse_categorical_accuracy: 0.9921\n",
      "\n",
      "Epoch 00034: val_sparse_categorical_accuracy did not improve from 0.99476\n",
      "Epoch 35/120\n",
      "263/263 - 2s - loss: 0.0063 - sparse_categorical_accuracy: 0.9981 - val_loss: 0.0558 - val_sparse_categorical_accuracy: 0.9912\n",
      "\n",
      "Epoch 00035: val_sparse_categorical_accuracy did not improve from 0.99476\n",
      "Epoch 36/120\n",
      "263/263 - 2s - loss: 0.0056 - sparse_categorical_accuracy: 0.9982 - val_loss: 0.0370 - val_sparse_categorical_accuracy: 0.9933\n",
      "\n",
      "Epoch 00036: val_sparse_categorical_accuracy did not improve from 0.99476\n",
      "Epoch 37/120\n",
      "263/263 - 2s - loss: 0.0065 - sparse_categorical_accuracy: 0.9982 - val_loss: 0.0376 - val_sparse_categorical_accuracy: 0.9924\n",
      "\n",
      "Epoch 00037: val_sparse_categorical_accuracy did not improve from 0.99476\n",
      "Epoch 38/120\n",
      "263/263 - 2s - loss: 0.0052 - sparse_categorical_accuracy: 0.9984 - val_loss: 0.0352 - val_sparse_categorical_accuracy: 0.9938\n",
      "\n",
      "Epoch 00038: val_sparse_categorical_accuracy did not improve from 0.99476\n",
      "Epoch 39/120\n",
      "263/263 - 2s - loss: 0.0037 - sparse_categorical_accuracy: 0.9991 - val_loss: 0.0352 - val_sparse_categorical_accuracy: 0.9938\n",
      "\n",
      "Epoch 00039: val_sparse_categorical_accuracy did not improve from 0.99476\n",
      "Epoch 40/120\n",
      "263/263 - 2s - loss: 0.0052 - sparse_categorical_accuracy: 0.9985 - val_loss: 0.0462 - val_sparse_categorical_accuracy: 0.9926\n",
      "\n",
      "Epoch 00040: val_sparse_categorical_accuracy did not improve from 0.99476\n",
      "Epoch 41/120\n",
      "263/263 - 2s - loss: 0.0065 - sparse_categorical_accuracy: 0.9982 - val_loss: 0.0362 - val_sparse_categorical_accuracy: 0.9929\n",
      "\n",
      "Epoch 00041: val_sparse_categorical_accuracy did not improve from 0.99476\n",
      "\n",
      "Epoch 00041: ReduceLROnPlateau reducing learning rate to 0.0006400000303983689.\n",
      "Epoch 42/120\n",
      "263/263 - 2s - loss: 0.0045 - sparse_categorical_accuracy: 0.9987 - val_loss: 0.0332 - val_sparse_categorical_accuracy: 0.9929\n",
      "\n",
      "Epoch 00042: val_sparse_categorical_accuracy did not improve from 0.99476\n",
      "Epoch 43/120\n",
      "263/263 - 2s - loss: 0.0043 - sparse_categorical_accuracy: 0.9985 - val_loss: 0.0390 - val_sparse_categorical_accuracy: 0.9933\n",
      "\n",
      "Epoch 00043: val_sparse_categorical_accuracy did not improve from 0.99476\n",
      "Epoch 44/120\n",
      "263/263 - 2s - loss: 0.0043 - sparse_categorical_accuracy: 0.9987 - val_loss: 0.0343 - val_sparse_categorical_accuracy: 0.9943\n",
      "\n",
      "Epoch 00044: val_sparse_categorical_accuracy did not improve from 0.99476\n",
      "Epoch 45/120\n",
      "263/263 - 2s - loss: 0.0029 - sparse_categorical_accuracy: 0.9992 - val_loss: 0.0351 - val_sparse_categorical_accuracy: 0.9948\n",
      "\n",
      "Epoch 00045: val_sparse_categorical_accuracy did not improve from 0.99476\n",
      "Epoch 46/120\n",
      "263/263 - 2s - loss: 0.0041 - sparse_categorical_accuracy: 0.9988 - val_loss: 0.0384 - val_sparse_categorical_accuracy: 0.9936\n",
      "\n",
      "Epoch 00046: val_sparse_categorical_accuracy did not improve from 0.99476\n",
      "Epoch 47/120\n",
      "263/263 - 2s - loss: 0.0042 - sparse_categorical_accuracy: 0.9989 - val_loss: 0.0328 - val_sparse_categorical_accuracy: 0.9933\n",
      "\n",
      "Epoch 00047: val_sparse_categorical_accuracy did not improve from 0.99476\n",
      "Epoch 48/120\n",
      "263/263 - 2s - loss: 0.0025 - sparse_categorical_accuracy: 0.9991 - val_loss: 0.0365 - val_sparse_categorical_accuracy: 0.9933\n",
      "\n",
      "Epoch 00048: val_sparse_categorical_accuracy did not improve from 0.99476\n",
      "Epoch 49/120\n",
      "263/263 - 2s - loss: 0.0046 - sparse_categorical_accuracy: 0.9986 - val_loss: 0.0333 - val_sparse_categorical_accuracy: 0.9929\n",
      "\n",
      "Epoch 00049: val_sparse_categorical_accuracy did not improve from 0.99476\n",
      "Epoch 50/120\n",
      "263/263 - 2s - loss: 0.0034 - sparse_categorical_accuracy: 0.9989 - val_loss: 0.0476 - val_sparse_categorical_accuracy: 0.9914\n",
      "\n",
      "Epoch 00050: val_sparse_categorical_accuracy did not improve from 0.99476\n",
      "Epoch 51/120\n",
      "263/263 - 2s - loss: 0.0039 - sparse_categorical_accuracy: 0.9989 - val_loss: 0.0390 - val_sparse_categorical_accuracy: 0.9936\n",
      "\n",
      "Epoch 00051: val_sparse_categorical_accuracy did not improve from 0.99476\n",
      "Epoch 52/120\n",
      "263/263 - 2s - loss: 0.0032 - sparse_categorical_accuracy: 0.9990 - val_loss: 0.0373 - val_sparse_categorical_accuracy: 0.9924\n",
      "\n",
      "Epoch 00052: val_sparse_categorical_accuracy did not improve from 0.99476\n",
      "Epoch 53/120\n",
      "263/263 - 2s - loss: 0.0034 - sparse_categorical_accuracy: 0.9992 - val_loss: 0.0387 - val_sparse_categorical_accuracy: 0.9936\n",
      "\n",
      "Epoch 00053: val_sparse_categorical_accuracy did not improve from 0.99476\n",
      "Epoch 54/120\n",
      "263/263 - 2s - loss: 0.0036 - sparse_categorical_accuracy: 0.9991 - val_loss: 0.0377 - val_sparse_categorical_accuracy: 0.9936\n",
      "\n",
      "Epoch 00054: val_sparse_categorical_accuracy did not improve from 0.99476\n",
      "Epoch 55/120\n",
      "263/263 - 2s - loss: 0.0046 - sparse_categorical_accuracy: 0.9985 - val_loss: 0.0477 - val_sparse_categorical_accuracy: 0.9914\n",
      "\n",
      "Epoch 00055: val_sparse_categorical_accuracy did not improve from 0.99476\n",
      "Epoch 56/120\n",
      "263/263 - 2s - loss: 0.0044 - sparse_categorical_accuracy: 0.9986 - val_loss: 0.0327 - val_sparse_categorical_accuracy: 0.9931\n",
      "\n",
      "Epoch 00056: val_sparse_categorical_accuracy did not improve from 0.99476\n",
      "\n",
      "Epoch 00056: ReduceLROnPlateau reducing learning rate to 0.0005120000336319208.\n",
      "Epoch 57/120\n",
      "263/263 - 2s - loss: 0.0033 - sparse_categorical_accuracy: 0.9986 - val_loss: 0.0413 - val_sparse_categorical_accuracy: 0.9933\n",
      "\n",
      "Epoch 00057: val_sparse_categorical_accuracy did not improve from 0.99476\n",
      "Epoch 58/120\n",
      "263/263 - 2s - loss: 0.0028 - sparse_categorical_accuracy: 0.9991 - val_loss: 0.0430 - val_sparse_categorical_accuracy: 0.9933\n",
      "\n",
      "Epoch 00058: val_sparse_categorical_accuracy did not improve from 0.99476\n",
      "Epoch 59/120\n",
      "263/263 - 2s - loss: 0.0018 - sparse_categorical_accuracy: 0.9994 - val_loss: 0.0400 - val_sparse_categorical_accuracy: 0.9933\n",
      "\n",
      "Epoch 00059: val_sparse_categorical_accuracy did not improve from 0.99476\n",
      "Epoch 60/120\n",
      "263/263 - 2s - loss: 0.0019 - sparse_categorical_accuracy: 0.9994 - val_loss: 0.0463 - val_sparse_categorical_accuracy: 0.9931\n",
      "\n",
      "Epoch 00060: val_sparse_categorical_accuracy did not improve from 0.99476\n",
      "Epoch 61/120\n",
      "263/263 - 2s - loss: 0.0025 - sparse_categorical_accuracy: 0.9993 - val_loss: 0.0418 - val_sparse_categorical_accuracy: 0.9936\n",
      "\n",
      "Epoch 00061: val_sparse_categorical_accuracy did not improve from 0.99476\n",
      "Epoch 62/120\n",
      "263/263 - 2s - loss: 0.0031 - sparse_categorical_accuracy: 0.9990 - val_loss: 0.0394 - val_sparse_categorical_accuracy: 0.9933\n",
      "\n",
      "Epoch 00062: val_sparse_categorical_accuracy did not improve from 0.99476\n",
      "Epoch 63/120\n",
      "263/263 - 2s - loss: 0.0023 - sparse_categorical_accuracy: 0.9993 - val_loss: 0.0307 - val_sparse_categorical_accuracy: 0.9950\n",
      "\n",
      "Epoch 00063: val_sparse_categorical_accuracy improved from 0.99476 to 0.99500, saving model to /tmp/checkpoint\n",
      "Epoch 64/120\n",
      "263/263 - 2s - loss: 0.0018 - sparse_categorical_accuracy: 0.9994 - val_loss: 0.0326 - val_sparse_categorical_accuracy: 0.9943\n",
      "\n",
      "Epoch 00064: val_sparse_categorical_accuracy did not improve from 0.99500\n",
      "Epoch 65/120\n",
      "263/263 - 2s - loss: 0.0012 - sparse_categorical_accuracy: 0.9996 - val_loss: 0.0346 - val_sparse_categorical_accuracy: 0.9948\n",
      "\n",
      "Epoch 00065: val_sparse_categorical_accuracy did not improve from 0.99500\n",
      "Epoch 66/120\n",
      "263/263 - 2s - loss: 0.0028 - sparse_categorical_accuracy: 0.9993 - val_loss: 0.0401 - val_sparse_categorical_accuracy: 0.9933\n",
      "\n",
      "Epoch 00066: val_sparse_categorical_accuracy did not improve from 0.99500\n",
      "Epoch 67/120\n",
      "263/263 - 2s - loss: 0.0024 - sparse_categorical_accuracy: 0.9993 - val_loss: 0.0380 - val_sparse_categorical_accuracy: 0.9943\n",
      "\n",
      "Epoch 00067: val_sparse_categorical_accuracy did not improve from 0.99500\n",
      "Epoch 68/120\n",
      "263/263 - 2s - loss: 0.0022 - sparse_categorical_accuracy: 0.9993 - val_loss: 0.0420 - val_sparse_categorical_accuracy: 0.9950\n",
      "\n",
      "Epoch 00068: val_sparse_categorical_accuracy did not improve from 0.99500\n",
      "Epoch 69/120\n",
      "263/263 - 2s - loss: 0.0019 - sparse_categorical_accuracy: 0.9993 - val_loss: 0.0387 - val_sparse_categorical_accuracy: 0.9943\n",
      "\n",
      "Epoch 00069: val_sparse_categorical_accuracy did not improve from 0.99500\n",
      "Epoch 70/120\n",
      "263/263 - 2s - loss: 0.0015 - sparse_categorical_accuracy: 0.9994 - val_loss: 0.0509 - val_sparse_categorical_accuracy: 0.9933\n",
      "\n",
      "Epoch 00070: val_sparse_categorical_accuracy did not improve from 0.99500\n",
      "Epoch 71/120\n",
      "263/263 - 2s - loss: 0.0038 - sparse_categorical_accuracy: 0.9989 - val_loss: 0.0454 - val_sparse_categorical_accuracy: 0.9936\n",
      "\n",
      "Epoch 00071: val_sparse_categorical_accuracy did not improve from 0.99500\n",
      "\n",
      "Epoch 00071: ReduceLROnPlateau reducing learning rate to 0.00040960004553198815.\n",
      "Epoch 72/120\n",
      "263/263 - 2s - loss: 0.0023 - sparse_categorical_accuracy: 0.9992 - val_loss: 0.0445 - val_sparse_categorical_accuracy: 0.9940\n",
      "\n",
      "Epoch 00072: val_sparse_categorical_accuracy did not improve from 0.99500\n",
      "Epoch 73/120\n",
      "263/263 - 2s - loss: 0.0015 - sparse_categorical_accuracy: 0.9994 - val_loss: 0.0423 - val_sparse_categorical_accuracy: 0.9943\n",
      "\n",
      "Epoch 00073: val_sparse_categorical_accuracy did not improve from 0.99500\n",
      "Epoch 74/120\n",
      "263/263 - 2s - loss: 0.0013 - sparse_categorical_accuracy: 0.9995 - val_loss: 0.0467 - val_sparse_categorical_accuracy: 0.9940\n",
      "\n",
      "Epoch 00074: val_sparse_categorical_accuracy did not improve from 0.99500\n",
      "Epoch 75/120\n",
      "263/263 - 2s - loss: 4.3032e-04 - sparse_categorical_accuracy: 0.9999 - val_loss: 0.0482 - val_sparse_categorical_accuracy: 0.9943\n",
      "\n",
      "Epoch 00075: val_sparse_categorical_accuracy did not improve from 0.99500\n",
      "Epoch 76/120\n",
      "263/263 - 2s - loss: 0.0013 - sparse_categorical_accuracy: 0.9996 - val_loss: 0.0471 - val_sparse_categorical_accuracy: 0.9940\n",
      "\n",
      "Epoch 00076: val_sparse_categorical_accuracy did not improve from 0.99500\n",
      "Epoch 77/120\n",
      "263/263 - 2s - loss: 0.0015 - sparse_categorical_accuracy: 0.9995 - val_loss: 0.0547 - val_sparse_categorical_accuracy: 0.9936\n",
      "\n",
      "Epoch 00077: val_sparse_categorical_accuracy did not improve from 0.99500\n",
      "Epoch 78/120\n",
      "263/263 - 2s - loss: 0.0023 - sparse_categorical_accuracy: 0.9994 - val_loss: 0.0571 - val_sparse_categorical_accuracy: 0.9931\n",
      "\n",
      "Epoch 00078: val_sparse_categorical_accuracy did not improve from 0.99500\n",
      "Epoch 79/120\n",
      "263/263 - 2s - loss: 0.0015 - sparse_categorical_accuracy: 0.9996 - val_loss: 0.0442 - val_sparse_categorical_accuracy: 0.9943\n",
      "\n",
      "Epoch 00079: val_sparse_categorical_accuracy did not improve from 0.99500\n",
      "Epoch 80/120\n",
      "263/263 - 2s - loss: 0.0017 - sparse_categorical_accuracy: 0.9994 - val_loss: 0.0364 - val_sparse_categorical_accuracy: 0.9945\n",
      "\n",
      "Epoch 00080: val_sparse_categorical_accuracy did not improve from 0.99500\n",
      "Epoch 81/120\n",
      "263/263 - 2s - loss: 0.0023 - sparse_categorical_accuracy: 0.9992 - val_loss: 0.0453 - val_sparse_categorical_accuracy: 0.9926\n",
      "\n",
      "Epoch 00081: val_sparse_categorical_accuracy did not improve from 0.99500\n",
      "Epoch 82/120\n",
      "263/263 - 2s - loss: 0.0013 - sparse_categorical_accuracy: 0.9996 - val_loss: 0.0413 - val_sparse_categorical_accuracy: 0.9938\n",
      "\n",
      "Epoch 00082: val_sparse_categorical_accuracy did not improve from 0.99500\n",
      "Epoch 83/120\n",
      "263/263 - 2s - loss: 0.0018 - sparse_categorical_accuracy: 0.9994 - val_loss: 0.0380 - val_sparse_categorical_accuracy: 0.9945\n",
      "\n",
      "Epoch 00083: val_sparse_categorical_accuracy did not improve from 0.99500\n",
      "Epoch 84/120\n",
      "263/263 - 2s - loss: 0.0011 - sparse_categorical_accuracy: 0.9996 - val_loss: 0.0497 - val_sparse_categorical_accuracy: 0.9933\n",
      "\n",
      "Epoch 00084: val_sparse_categorical_accuracy did not improve from 0.99500\n",
      "Epoch 85/120\n",
      "263/263 - 2s - loss: 0.0011 - sparse_categorical_accuracy: 0.9996 - val_loss: 0.0478 - val_sparse_categorical_accuracy: 0.9940\n",
      "\n",
      "Epoch 00085: val_sparse_categorical_accuracy did not improve from 0.99500\n",
      "Epoch 86/120\n",
      "263/263 - 2s - loss: 9.6039e-04 - sparse_categorical_accuracy: 0.9998 - val_loss: 0.0490 - val_sparse_categorical_accuracy: 0.9940\n",
      "\n",
      "Epoch 00086: val_sparse_categorical_accuracy did not improve from 0.99500\n",
      "\n",
      "Epoch 00086: ReduceLROnPlateau reducing learning rate to 0.00032768002711236477.\n",
      "Epoch 00086: early stopping\n"
     ]
    }
   ],
   "source": [
    "cnn_model=model()\n",
    "checkpointer=tkc.ModelCheckpoint(\n",
    "    filepath='/tmp/checkpoint',verbose=2,save_weights_only=True,\n",
    "    monitor='val_sparse_categorical_accuracy',mode='max',save_best_only=True)\n",
    "lr_reduction=tkc.ReduceLROnPlateau(\n",
    "    monitor='val_loss',patience=15,verbose=2,factor=.8)\n",
    "early_stopping=tkc.EarlyStopping(\n",
    "    monitor='val_loss',patience=75,verbose=2)\n",
    "history=cnn_model.fit(\n",
    "    x_train,y_train,epochs=120,batch_size=128,\n",
    "    verbose=2,validation_data=(x_valid,y_valid),\n",
    "    callbacks=[checkpointer,lr_reduction,early_stopping])"
   ]
  },
  {
   "cell_type": "code",
   "execution_count": 8,
   "id": "dc213487",
   "metadata": {
    "execution": {
     "iopub.execute_input": "2021-10-30T22:48:45.636447Z",
     "iopub.status.busy": "2021-10-30T22:48:45.635747Z",
     "iopub.status.idle": "2021-10-30T22:48:45.638565Z",
     "shell.execute_reply": "2021-10-30T22:48:45.638002Z",
     "shell.execute_reply.started": "2021-10-30T22:38:10.294761Z"
    },
    "papermill": {
     "duration": 0.118008,
     "end_time": "2021-10-30T22:48:45.638676",
     "exception": false,
     "start_time": "2021-10-30T22:48:45.520668",
     "status": "completed"
    },
    "tags": []
   },
   "outputs": [],
   "source": [
    "def history_plot(history):\n",
    "    pl.figure(figsize=(12,5))\n",
    "    pl.plot(history.history['sparse_categorical_accuracy'][3:],\n",
    "            '-o',label='train')\n",
    "    pl.plot(history.history['val_sparse_categorical_accuracy'][3:],\n",
    "            '-o',label='valid')\n",
    "    pl.legend(); pl.title('CNN Accuracy'); pl.show()"
   ]
  },
  {
   "cell_type": "code",
   "execution_count": 9,
   "id": "edd37049",
   "metadata": {
    "execution": {
     "iopub.execute_input": "2021-10-30T22:48:45.778202Z",
     "iopub.status.busy": "2021-10-30T22:48:45.777684Z",
     "iopub.status.idle": "2021-10-30T22:49:25.473858Z",
     "shell.execute_reply": "2021-10-30T22:49:25.474302Z",
     "shell.execute_reply.started": "2021-10-30T22:38:10.302360Z"
    },
    "papermill": {
     "duration": 39.772209,
     "end_time": "2021-10-30T22:49:25.474575",
     "exception": false,
     "start_time": "2021-10-30T22:48:45.702366",
     "status": "completed"
    },
    "tags": []
   },
   "outputs": [],
   "source": [
    "cnn_model.load_weights('/tmp/checkpoint')\n",
    "scores=cnn_model.evaluate(x_test,y_test,verbose=0)"
   ]
  },
  {
   "cell_type": "code",
   "execution_count": 10,
   "id": "993bd359",
   "metadata": {
    "execution": {
     "iopub.execute_input": "2021-10-30T22:49:25.628402Z",
     "iopub.status.busy": "2021-10-30T22:49:25.627139Z",
     "iopub.status.idle": "2021-10-30T22:49:25.834267Z",
     "shell.execute_reply": "2021-10-30T22:49:25.833853Z",
     "shell.execute_reply.started": "2021-10-30T22:38:10.719308Z"
    },
    "papermill": {
     "duration": 0.294178,
     "end_time": "2021-10-30T22:49:25.834388",
     "exception": false,
     "start_time": "2021-10-30T22:49:25.540210",
     "status": "completed"
    },
    "tags": []
   },
   "outputs": [
    {
     "data": {
      "image/png": "[encoded data removed]",
      "text/plain": [
       "<Figure size 864x360 with 1 Axes>"
      ]
     },
     "metadata": {
      "needs_background": "light"
     },
     "output_type": "display_data"
    },
    {
     "name": "stdout",
     "output_type": "stream",
     "text": [
      "CNN Scores:  [0.02699011191725731, 0.9942857027053833]\n",
      "CNN Error: 0.57%\n"
     ]
    }
   ],
   "source": [
    "history_plot(history)\n",
    "print('CNN Scores: ',(scores))\n",
    "print('CNN Error: %.2f%%'%(100-scores[1]*100))"
   ]
  },
  {
   "cell_type": "code",
   "execution_count": 11,
   "id": "108c089a",
   "metadata": {
    "execution": {
     "iopub.execute_input": "2021-10-30T22:49:25.970253Z",
     "iopub.status.busy": "2021-10-30T22:49:25.969150Z",
     "iopub.status.idle": "2021-10-30T22:51:53.314122Z",
     "shell.execute_reply": "2021-10-30T22:51:53.313600Z",
     "shell.execute_reply.started": "2021-10-30T22:38:10.960395Z"
    },
    "papermill": {
     "duration": 147.415638,
     "end_time": "2021-10-30T22:51:53.314253",
     "exception": false,
     "start_time": "2021-10-30T22:49:25.898615",
     "status": "completed"
    },
    "tags": []
   },
   "outputs": [
    {
     "name": "stdout",
     "output_type": "stream",
     "text": [
      "Epoch 1/10\n",
      "262/262 - 13s - loss: 0.4239 - sparse_categorical_accuracy: 0.8739 - val_loss: 0.1597 - val_sparse_categorical_accuracy: 0.9519\n",
      "\n",
      "Epoch 00001: val_sparse_categorical_accuracy did not improve from 0.99500\n",
      "Epoch 2/10\n",
      "262/262 - 12s - loss: 0.2170 - sparse_categorical_accuracy: 0.9349 - val_loss: 0.1262 - val_sparse_categorical_accuracy: 0.9669\n",
      "\n",
      "Epoch 00002: val_sparse_categorical_accuracy did not improve from 0.99500\n",
      "Epoch 3/10\n",
      "262/262 - 12s - loss: 0.1756 - sparse_categorical_accuracy: 0.9462 - val_loss: 0.1197 - val_sparse_categorical_accuracy: 0.9657\n",
      "\n",
      "Epoch 00003: val_sparse_categorical_accuracy did not improve from 0.99500\n",
      "Epoch 4/10\n",
      "262/262 - 12s - loss: 0.1619 - sparse_categorical_accuracy: 0.9514 - val_loss: 0.0893 - val_sparse_categorical_accuracy: 0.9724\n",
      "\n",
      "Epoch 00004: val_sparse_categorical_accuracy did not improve from 0.99500\n",
      "Epoch 5/10\n",
      "262/262 - 12s - loss: 0.1386 - sparse_categorical_accuracy: 0.9581 - val_loss: 0.0839 - val_sparse_categorical_accuracy: 0.9740\n",
      "\n",
      "Epoch 00005: val_sparse_categorical_accuracy did not improve from 0.99500\n",
      "Epoch 6/10\n",
      "262/262 - 13s - loss: 0.1304 - sparse_categorical_accuracy: 0.9602 - val_loss: 0.0798 - val_sparse_categorical_accuracy: 0.9748\n",
      "\n",
      "Epoch 00006: val_sparse_categorical_accuracy did not improve from 0.99500\n",
      "Epoch 7/10\n",
      "262/262 - 12s - loss: 0.1190 - sparse_categorical_accuracy: 0.9641 - val_loss: 0.0773 - val_sparse_categorical_accuracy: 0.9767\n",
      "\n",
      "Epoch 00007: val_sparse_categorical_accuracy did not improve from 0.99500\n",
      "Epoch 8/10\n",
      "262/262 - 12s - loss: 0.1117 - sparse_categorical_accuracy: 0.9664 - val_loss: 0.0757 - val_sparse_categorical_accuracy: 0.9767\n",
      "\n",
      "Epoch 00008: val_sparse_categorical_accuracy did not improve from 0.99500\n",
      "Epoch 9/10\n",
      "262/262 - 12s - loss: 0.1084 - sparse_categorical_accuracy: 0.9679 - val_loss: 0.0612 - val_sparse_categorical_accuracy: 0.9812\n",
      "\n",
      "Epoch 00009: val_sparse_categorical_accuracy did not improve from 0.99500\n",
      "Epoch 10/10\n",
      "262/262 - 12s - loss: 0.1008 - sparse_categorical_accuracy: 0.9694 - val_loss: 0.0635 - val_sparse_categorical_accuracy: 0.9807\n",
      "\n",
      "Epoch 00010: val_sparse_categorical_accuracy did not improve from 0.99500\n"
     ]
    }
   ],
   "source": [
    "steps,epochs=int(len(x_train)/128),10\n",
    "datagen=ImageDataGenerator(\n",
    "    featurewise_center=True,\n",
    "    featurewise_std_normalization=True,\n",
    "    zoom_range=.2,shear_range=.2,rotation_range=30,\n",
    "    height_shift_range=.2,width_shift_range=.2)\n",
    "datagen.fit(x_train)\n",
    "history=cnn_model.\\\n",
    "fit(datagen.flow(x_train,y_train,batch_size=128),\n",
    "    steps_per_epoch=steps,epochs=epochs,verbose=2,\n",
    "    validation_data=datagen.flow(x_valid,y_valid,batch_size=16), \n",
    "    callbacks=[checkpointer,lr_reduction,early_stopping])"
   ]
  },
  {
   "cell_type": "code",
   "execution_count": 12,
   "id": "38ffdf9b",
   "metadata": {
    "execution": {
     "iopub.execute_input": "2021-10-30T22:51:53.466908Z",
     "iopub.status.busy": "2021-10-30T22:51:53.465977Z",
     "iopub.status.idle": "2021-10-30T22:51:53.814454Z",
     "shell.execute_reply": "2021-10-30T22:51:53.813931Z",
     "shell.execute_reply.started": "2021-10-30T22:41:14.907568Z"
    },
    "papermill": {
     "duration": 0.429627,
     "end_time": "2021-10-30T22:51:53.814588",
     "exception": false,
     "start_time": "2021-10-30T22:51:53.384961",
     "status": "completed"
    },
    "tags": []
   },
   "outputs": [],
   "source": [
    "cnn_model.load_weights('/tmp/checkpoint')\n",
    "scores=cnn_model.evaluate(x_test,y_test,verbose=0)"
   ]
  },
  {
   "cell_type": "code",
   "execution_count": 13,
   "id": "9f1d8135",
   "metadata": {
    "execution": {
     "iopub.execute_input": "2021-10-30T22:51:54.071945Z",
     "iopub.status.busy": "2021-10-30T22:51:54.071098Z",
     "iopub.status.idle": "2021-10-30T22:51:54.341017Z",
     "shell.execute_reply": "2021-10-30T22:51:54.341614Z",
     "shell.execute_reply.started": "2021-10-30T22:41:15.375384Z"
    },
    "papermill": {
     "duration": 0.423249,
     "end_time": "2021-10-30T22:51:54.341814",
     "exception": false,
     "start_time": "2021-10-30T22:51:53.918565",
     "status": "completed"
    },
    "tags": []
   },
   "outputs": [
    {
     "data": {
      "image/png": "[encoded data removed]",
      "text/plain": [
       "<Figure size 864x360 with 1 Axes>"
      ]
     },
     "metadata": {
      "needs_background": "light"
     },
     "output_type": "display_data"
    },
    {
     "name": "stdout",
     "output_type": "stream",
     "text": [
      "CNN Scores:  [0.02699011191725731, 0.9942857027053833]\n",
      "CNN Error: 0.57%\n"
     ]
    }
   ],
   "source": [
    "history_plot(history)\n",
    "print('CNN Scores: ',(scores))\n",
    "print('CNN Error: %.2f%%'%(100-scores[1]*100))"
   ]
  },
  {
   "cell_type": "code",
   "execution_count": 14,
   "id": "c9e0a3f8",
   "metadata": {
    "execution": {
     "iopub.execute_input": "2021-10-30T22:51:54.566898Z",
     "iopub.status.busy": "2021-10-30T22:51:54.565757Z",
     "iopub.status.idle": "2021-10-30T22:51:55.215284Z",
     "shell.execute_reply": "2021-10-30T22:51:55.215756Z",
     "shell.execute_reply.started": "2021-10-30T22:41:15.631770Z"
    },
    "papermill": {
     "duration": 0.754927,
     "end_time": "2021-10-30T22:51:55.215933",
     "exception": false,
     "start_time": "2021-10-30T22:51:54.461006",
     "status": "completed"
    },
    "tags": []
   },
   "outputs": [
    {
     "data": {
      "image/png": "[encoded data removed]",
      "text/plain": [
       "<Figure size 864x360 with 1 Axes>"
      ]
     },
     "metadata": {
      "needs_background": "light"
     },
     "output_type": "display_data"
    }
   ],
   "source": [
    "y_test_predictions=\\\n",
    "cnn_model.predict(x_test).argmax(axis=-1)\n",
    "pl.figure(figsize=(12,5))\n",
    "pl.scatter(range(150),y_test[:150],s=100)\n",
    "pl.scatter(range(150),y_test_predictions[:150],s=25);"
   ]
  },
  {
   "cell_type": "code",
   "execution_count": 15,
   "id": "b81775ce",
   "metadata": {
    "execution": {
     "iopub.execute_input": "2021-10-30T22:51:55.366594Z",
     "iopub.status.busy": "2021-10-30T22:51:55.365631Z",
     "iopub.status.idle": "2021-10-30T22:51:56.860645Z",
     "shell.execute_reply": "2021-10-30T22:51:56.860141Z",
     "shell.execute_reply.started": "2021-10-30T22:41:16.358019Z"
    },
    "papermill": {
     "duration": 1.571612,
     "end_time": "2021-10-30T22:51:56.860786",
     "exception": false,
     "start_time": "2021-10-30T22:51:55.289174",
     "status": "completed"
    },
    "tags": []
   },
   "outputs": [],
   "source": [
    "predict_y_test_out=cnn_model.predict(x_test_out)\n",
    "predict_y_test_out=predict_y_test_out.argmax(axis=-1)"
   ]
  },
  {
   "cell_type": "code",
   "execution_count": 16,
   "id": "f4d5c73d",
   "metadata": {
    "execution": {
     "iopub.execute_input": "2021-10-30T22:51:57.014125Z",
     "iopub.status.busy": "2021-10-30T22:51:57.009158Z",
     "iopub.status.idle": "2021-10-30T22:51:57.060989Z",
     "shell.execute_reply": "2021-10-30T22:51:57.060214Z",
     "shell.execute_reply.started": "2021-10-30T22:41:19.243252Z"
    },
    "papermill": {
     "duration": 0.128202,
     "end_time": "2021-10-30T22:51:57.061115",
     "exception": false,
     "start_time": "2021-10-30T22:51:56.932913",
     "status": "completed"
    },
    "tags": []
   },
   "outputs": [
    {
     "name": "stdout",
     "output_type": "stream",
     "text": [
      "         0   1   2   3   4   5   6   7   8   9   10  11  12  13  14\n",
      "ImageId   1   2   3   4   5   6   7   8   9  10  11  12  13  14  15\n",
      "Label     2   0   9   9   3   7   0   3   0   3   5   7   4   0   4\n"
     ]
    }
   ],
   "source": [
    "submission=pd.DataFrame(\n",
    "    {'ImageId':range(1,len(predict_y_test_out)+1), \n",
    "     'Label':predict_y_test_out})\n",
    "print(submission[0:15].T)\n",
    "submission.to_csv('kaggle_digits_cnn.csv',index=False)"
   ]
  },
  {
   "cell_type": "code",
   "execution_count": 17,
   "id": "62602cf5",
   "metadata": {
    "execution": {
     "iopub.execute_input": "2021-10-30T22:51:57.265998Z",
     "iopub.status.busy": "2021-10-30T22:51:57.237559Z",
     "iopub.status.idle": "2021-10-30T22:51:57.935883Z",
     "shell.execute_reply": "2021-10-30T22:51:57.936272Z",
     "shell.execute_reply.started": "2021-10-30T22:41:19.305816Z"
    },
    "papermill": {
     "duration": 0.801782,
     "end_time": "2021-10-30T22:51:57.936434",
     "exception": false,
     "start_time": "2021-10-30T22:51:57.134652",
     "status": "completed"
    },
    "tags": []
   },
   "outputs": [
    {
     "data": {
      "image/png": "[encoded data removed]",
      "text/plain": [
       "<Figure size 864x432 with 15 Axes>"
      ]
     },
     "metadata": {},
     "output_type": "display_data"
    }
   ],
   "source": [
    "fig,ax=pl.subplots(figsize=(12,6),nrows=3,ncols=5,sharex=True,sharey=True)\n",
    "ax=ax.flatten()\n",
    "for i in range(15):\n",
    "    image=x_test_out[i].reshape(28,28)\n",
    "    ax[i].imshow(image,cmap=pl.cm.bone)\n",
    "ax[0].set_xticks([]); ax[0].set_yticks([])\n",
    "ax[2].set_title('Examples of digits. Test datapoints',fontsize=25)\n",
    "pl.tight_layout(); pl.gcf(); pl.show()"
   ]
  },
  {
   "cell_type": "markdown",
   "id": "93709098",
   "metadata": {
    "papermill": {
     "duration": 0.073826,
     "end_time": "2021-10-30T22:51:58.084606",
     "exception": false,
     "start_time": "2021-10-30T22:51:58.010780",
     "status": "completed"
    },
    "tags": []
   },
   "source": [
    "## Hub Models"
   ]
  },
  {
   "cell_type": "code",
   "execution_count": 18,
   "id": "2061f4e1",
   "metadata": {
    "execution": {
     "iopub.execute_input": "2021-10-30T22:51:58.300243Z",
     "iopub.status.busy": "2021-10-30T22:51:58.299440Z",
     "iopub.status.idle": "2021-10-30T22:51:58.545215Z",
     "shell.execute_reply": "2021-10-30T22:51:58.544635Z",
     "shell.execute_reply.started": "2021-10-30T22:41:20.125161Z"
    },
    "papermill": {
     "duration": 0.386543,
     "end_time": "2021-10-30T22:51:58.545347",
     "exception": false,
     "start_time": "2021-10-30T22:51:58.158804",
     "status": "completed"
    },
    "tags": []
   },
   "outputs": [
    {
     "data": {
      "text/plain": [
       "(1000, 28, 28, 3)"
      ]
     },
     "execution_count": 18,
     "metadata": {},
     "output_type": "execute_result"
    }
   ],
   "source": [
    "N3=10000; n3=int(.1*N3)\n",
    "x_train3=x_train[:N3]; y_train3=y_train[:N3]\n",
    "x_valid3=x_valid[:n3]; y_valid3=y_valid[:n3]\n",
    "x_test3=x_test[:n3]; y_test3=y_test[:n3]\n",
    "x_train3=tf.repeat(x_train3,3,axis=3).numpy()\n",
    "x_valid3=tf.repeat(x_valid3,3,axis=3).numpy()\n",
    "x_test3=tf.repeat(x_test3,3,axis=3).numpy()\n",
    "x_test3.shape"
   ]
  },
  {
   "cell_type": "code",
   "execution_count": 19,
   "id": "fa1c184e",
   "metadata": {
    "execution": {
     "iopub.execute_input": "2021-10-30T22:51:58.887760Z",
     "iopub.status.busy": "2021-10-30T22:51:58.886926Z",
     "iopub.status.idle": "2021-10-30T22:52:00.393688Z",
     "shell.execute_reply": "2021-10-30T22:52:00.393203Z",
     "shell.execute_reply.started": "2021-10-30T22:41:20.461385Z"
    },
    "papermill": {
     "duration": 1.77374,
     "end_time": "2021-10-30T22:52:00.393819",
     "exception": false,
     "start_time": "2021-10-30T22:51:58.620079",
     "status": "completed"
    },
    "tags": []
   },
   "outputs": [
    {
     "name": "stderr",
     "output_type": "stream",
     "text": [
      "2021-10-30 22:51:58.887557: W tensorflow/core/framework/cpu_allocator_impl.cc:80] Allocation of 1105920000 exceeds 10% of free system memory.\n"
     ]
    },
    {
     "data": {
      "text/plain": [
       "(1000, 96, 96, 3)"
      ]
     },
     "execution_count": 19,
     "metadata": {},
     "output_type": "execute_result"
    }
   ],
   "source": [
    "x_train3=tf.image.resize(x_train3,[img_size,img_size]).numpy()\n",
    "x_valid3=tf.image.resize(x_valid3,[img_size,img_size]).numpy()\n",
    "x_test3=tf.image.resize(x_test3,[img_size,img_size]).numpy()\n",
    "x_test3.shape"
   ]
  },
  {
   "cell_type": "code",
   "execution_count": 20,
   "id": "bc31662b",
   "metadata": {
    "execution": {
     "iopub.execute_input": "2021-10-30T22:52:00.564487Z",
     "iopub.status.busy": "2021-10-30T22:52:00.563356Z",
     "iopub.status.idle": "2021-10-30T22:52:00.860999Z",
     "shell.execute_reply": "2021-10-30T22:52:00.861374Z",
     "shell.execute_reply.started": "2021-10-30T22:41:22.221602Z"
    },
    "papermill": {
     "duration": 0.393204,
     "end_time": "2021-10-30T22:52:00.861587",
     "exception": false,
     "start_time": "2021-10-30T22:52:00.468383",
     "status": "completed"
    },
    "tags": []
   },
   "outputs": [
    {
     "data": {
      "image/png": "[encoded data removed]",
      "text/plain": [
       "<Figure size 720x144 with 5 Axes>"
      ]
     },
     "metadata": {},
     "output_type": "display_data"
    }
   ],
   "source": [
    "fig,ax=pl.subplots(\n",
    "    figsize=(10,2),nrows=1,\n",
    "    ncols=5,sharex=True,sharey=True)\n",
    "ax=ax.flatten()\n",
    "for i in range(5):\n",
    "    img=np.clip(x_train3[i],0,1)\n",
    "    ax[i].imshow(img)\n",
    "ax[0].set_xticks([]); ax[0].set_yticks([])\n",
    "pl.tight_layout(); pl.gcf()\n",
    "ax[2].set_title(\n",
    "    f'Examples of the {img_size}*{img_size}*3-dimensional digits',\n",
    "    fontsize=25);"
   ]
  },
  {
   "cell_type": "code",
   "execution_count": 21,
   "id": "fa467f8f",
   "metadata": {
    "execution": {
     "iopub.execute_input": "2021-10-30T22:52:01.020722Z",
     "iopub.status.busy": "2021-10-30T22:52:01.020060Z",
     "iopub.status.idle": "2021-10-30T22:52:01.023691Z",
     "shell.execute_reply": "2021-10-30T22:52:01.023115Z",
     "shell.execute_reply.started": "2021-10-30T22:41:22.571712Z"
    },
    "papermill": {
     "duration": 0.08668,
     "end_time": "2021-10-30T22:52:01.023824",
     "exception": false,
     "start_time": "2021-10-30T22:52:00.937144",
     "status": "completed"
    },
    "tags": []
   },
   "outputs": [],
   "source": [
    "def premodel(pix,den,mh,lbl,activ,loss):\n",
    "    model=tf.keras.Sequential([\n",
    "        tkl.Input((pix,pix,3),name='input'),\n",
    "        th.KerasLayer(mh,trainable=True),\n",
    "        tkl.Flatten(),\n",
    "        tkl.Dense(den,activation='relu'),\n",
    "        tkl.Dropout(rate=.5),\n",
    "        tkl.Dense(lbl,activation=activ)])\n",
    "    model.compile(optimizer='nadam',loss=loss,\n",
    "                  metrics=['sparse_categorical_accuracy'])\n",
    "    return model\n",
    "def cb(fw):\n",
    "    early_stopping=tkc.EarlyStopping(\n",
    "        monitor='val_loss',patience=10,verbose=2)\n",
    "    checkpointer=tkc.ModelCheckpoint(\n",
    "        filepath=fw,verbose=2,save_weights_only=True,\n",
    "        monitor='val_sparse_categorical_accuracy',\n",
    "        mode='max',save_best_only=True)\n",
    "    lr_reduction=tkc.ReduceLROnPlateau(\n",
    "        monitor='val_loss',verbose=2,patience=5,factor=.8)\n",
    "    return [checkpointer,early_stopping,lr_reduction]"
   ]
  },
  {
   "cell_type": "code",
   "execution_count": 22,
   "id": "6ffe6c71",
   "metadata": {
    "_kg_hide-output": true,
    "execution": {
     "iopub.execute_input": "2021-10-30T22:52:01.180542Z",
     "iopub.status.busy": "2021-10-30T22:52:01.179993Z",
     "iopub.status.idle": "2021-10-30T22:55:42.203958Z",
     "shell.execute_reply": "2021-10-30T22:55:42.203497Z"
    },
    "papermill": {
     "duration": 221.105264,
     "end_time": "2021-10-30T22:55:42.204092",
     "exception": false,
     "start_time": "2021-10-30T22:52:01.098828",
     "status": "completed"
    },
    "tags": []
   },
   "outputs": [
    {
     "name": "stderr",
     "output_type": "stream",
     "text": [
      "2021-10-30 22:52:05.264530: W tensorflow/core/framework/cpu_allocator_impl.cc:80] Allocation of 1105920000 exceeds 10% of free system memory.\n",
      "2021-10-30 22:52:06.390005: W tensorflow/core/framework/cpu_allocator_impl.cc:80] Allocation of 1105920000 exceeds 10% of free system memory.\n"
     ]
    },
    {
     "name": "stdout",
     "output_type": "stream",
     "text": [
      "\n",
      "Epoch 00001: val_sparse_categorical_accuracy improved from -inf to 0.11200, saving model to /tmp/checkpoint\n",
      "\n",
      "Epoch 00002: val_sparse_categorical_accuracy improved from 0.11200 to 0.63800, saving model to /tmp/checkpoint\n",
      "\n",
      "Epoch 00003: val_sparse_categorical_accuracy improved from 0.63800 to 0.72200, saving model to /tmp/checkpoint\n",
      "\n",
      "Epoch 00004: val_sparse_categorical_accuracy improved from 0.72200 to 0.92400, saving model to /tmp/checkpoint\n",
      "\n",
      "Epoch 00005: val_sparse_categorical_accuracy did not improve from 0.92400\n",
      "\n",
      "Epoch 00006: val_sparse_categorical_accuracy did not improve from 0.92400\n",
      "\n",
      "Epoch 00007: val_sparse_categorical_accuracy improved from 0.92400 to 0.97700, saving model to /tmp/checkpoint\n",
      "\n",
      "Epoch 00008: val_sparse_categorical_accuracy did not improve from 0.97700\n",
      "\n",
      "Epoch 00009: val_sparse_categorical_accuracy did not improve from 0.97700\n",
      "\n",
      "Epoch 00010: val_sparse_categorical_accuracy improved from 0.97700 to 0.98800, saving model to /tmp/checkpoint\n",
      "\n",
      "Epoch 00011: val_sparse_categorical_accuracy did not improve from 0.98800\n",
      "\n",
      "Epoch 00012: val_sparse_categorical_accuracy did not improve from 0.98800\n",
      "\n",
      "Epoch 00013: val_sparse_categorical_accuracy did not improve from 0.98800\n",
      "\n",
      "Epoch 00014: val_sparse_categorical_accuracy did not improve from 0.98800\n",
      "\n",
      "Epoch 00015: val_sparse_categorical_accuracy did not improve from 0.98800\n",
      "\n",
      "Epoch 00015: ReduceLROnPlateau reducing learning rate to 0.000800000037997961.\n",
      "\n",
      "Epoch 00016: val_sparse_categorical_accuracy improved from 0.98800 to 0.99200, saving model to /tmp/checkpoint\n",
      "\n",
      "Epoch 00017: val_sparse_categorical_accuracy did not improve from 0.99200\n",
      "\n",
      "Epoch 00018: val_sparse_categorical_accuracy did not improve from 0.99200\n",
      "\n",
      "Epoch 00019: val_sparse_categorical_accuracy did not improve from 0.99200\n",
      "\n",
      "Epoch 00020: val_sparse_categorical_accuracy did not improve from 0.99200\n"
     ]
    }
   ],
   "source": [
    "fw='/tmp/checkpoint'\n",
    "handle_base='mobilenet_v2_100_%d'%img_size\n",
    "mhandle='https://tfhub.dev/google/imagenet/{}/classification/4'\\\n",
    ".format(handle_base)\n",
    "hub_model=premodel(img_size,1024,mhandle,num_classes,\n",
    "                  'softmax','sparse_categorical_crossentropy')\n",
    "history=hub_model.fit(x=x_train3,y=y_train3,batch_size=128,\n",
    "                      epochs=20,callbacks=cb(fw),verbose=0,\n",
    "                      validation_data=(x_valid3,y_valid3))"
   ]
  },
  {
   "cell_type": "code",
   "execution_count": 23,
   "id": "c27ade54",
   "metadata": {
    "execution": {
     "iopub.execute_input": "2021-10-30T22:55:42.382727Z",
     "iopub.status.busy": "2021-10-30T22:55:42.381664Z",
     "iopub.status.idle": "2021-10-30T22:55:43.781022Z",
     "shell.execute_reply": "2021-10-30T22:55:43.782031Z"
    },
    "papermill": {
     "duration": 1.496948,
     "end_time": "2021-10-30T22:55:43.782233",
     "exception": false,
     "start_time": "2021-10-30T22:55:42.285285",
     "status": "completed"
    },
    "tags": []
   },
   "outputs": [
    {
     "data": {
      "text/plain": [
       "[0.1494002789258957, 0.9900000095367432]"
      ]
     },
     "execution_count": 23,
     "metadata": {},
     "output_type": "execute_result"
    }
   ],
   "source": [
    "hub_model.load_weights('/tmp/checkpoint')\n",
    "hub_model.evaluate(x_test3,y_test3,verbose=0)"
   ]
  }
 ],
 "metadata": {
  "kernelspec": {
   "display_name": "Python 3",
   "language": "python",
   "name": "python3"
  },
  "language_info": {
   "codemirror_mode": {
    "name": "ipython",
    "version": 3
   },
   "file_extension": ".py",
   "mimetype": "text/x-python",
   "name": "python",
   "nbconvert_exporter": "python",
   "pygments_lexer": "ipython3",
   "version": "3.7.10"
  },
  "papermill": {
   "default_parameters": {},
   "duration": 606.687678,
   "end_time": "2021-10-30T22:55:46.843024",
   "environment_variables": {},
   "exception": null,
   "input_path": "__notebook__.ipynb",
   "output_path": "__notebook__.ipynb",
   "parameters": {},
   "start_time": "2021-10-30T22:45:40.155346",
   "version": "2.3.3"
  }
 },
 "nbformat": 4,
 "nbformat_minor": 5
}
